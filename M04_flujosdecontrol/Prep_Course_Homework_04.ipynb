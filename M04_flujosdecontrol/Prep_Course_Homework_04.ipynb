{
 "cells": [
  {
   "attachments": {},
   "cell_type": "markdown",
   "metadata": {},
   "source": [
    "## Flujos de Control"
   ]
  },
  {
   "attachments": {},
   "cell_type": "markdown",
   "metadata": {},
   "source": [
    "1) Crear una variable que contenga un elemento del conjunto de números enteros y luego imprimir por pantalla si es mayor o menor a cero"
   ]
  },
  {
   "cell_type": "code",
   "execution_count": 13,
   "metadata": {},
   "outputs": [
    {
     "name": "stdout",
     "output_type": "stream",
     "text": [
      "mayor que cero\n"
     ]
    }
   ],
   "source": [
    "a = 9\n",
    "if a> 0:\n",
    "    print(\"mayor que cero\")\n",
    "elif a==0:\n",
    "    print(\"igual a cero\")\n",
    "else:\n",
    "    print(\"Menor que cero\")"
   ]
  },
  {
   "attachments": {},
   "cell_type": "markdown",
   "metadata": {},
   "source": [
    "2) Crear dos variables y un condicional que informe si son del mismo tipo de dato"
   ]
  },
  {
   "cell_type": "code",
   "execution_count": 19,
   "metadata": {},
   "outputs": [
    {
     "name": "stdout",
     "output_type": "stream",
     "text": [
      "No son el mismo tipo de dato\n"
     ]
    }
   ],
   "source": [
    "a = 9\n",
    "b = '2'\n",
    "\n",
    "if type(a) == type(b):\n",
    "    print(\"Si son el mismo tipo de dato\")\n",
    "else:\n",
    "    print(\"No son el mismo tipo de dato\")"
   ]
  },
  {
   "attachments": {},
   "cell_type": "markdown",
   "metadata": {},
   "source": [
    "3) Para los valores enteros del 1 al 20, imprimir por pantalla si es par o impar"
   ]
  },
  {
   "cell_type": "code",
   "execution_count": 25,
   "metadata": {},
   "outputs": [
    {
     "name": "stdout",
     "output_type": "stream",
     "text": [
      "1 es impar\n",
      "2 es par\n",
      "3 es impar\n",
      "4 es par\n",
      "5 es impar\n",
      "6 es par\n",
      "7 es impar\n",
      "8 es par\n",
      "9 es impar\n",
      "10 es par\n",
      "11 es impar\n",
      "12 es par\n",
      "13 es impar\n",
      "14 es par\n",
      "15 es impar\n",
      "16 es par\n",
      "17 es impar\n",
      "18 es par\n",
      "19 es impar\n",
      "20 es par\n"
     ]
    }
   ],
   "source": [
    "# Bucle for\n",
    "for i in range(1,20+1):\n",
    "    if i %2==0:\n",
    "        print(i, 'es par')\n",
    "    else:\n",
    "        print(i, 'es impar')\n"
   ]
  },
  {
   "cell_type": "code",
   "execution_count": 29,
   "metadata": {},
   "outputs": [
    {
     "name": "stdout",
     "output_type": "stream",
     "text": [
      "El numero:1 es impar\n",
      "El numero:2 es par\n",
      "El numero:3 es impar\n",
      "El numero:4 es par\n",
      "El numero:5 es impar\n",
      "El numero:6 es par\n",
      "El numero:7 es impar\n",
      "El numero:8 es par\n",
      "El numero:9 es impar\n",
      "El numero:10 es par\n",
      "El numero:11 es impar\n",
      "El numero:12 es par\n",
      "El numero:13 es impar\n",
      "El numero:14 es par\n",
      "El numero:15 es impar\n",
      "El numero:16 es par\n",
      "El numero:17 es impar\n",
      "El numero:18 es par\n",
      "El numero:19 es impar\n",
      "El numero:20 es par\n"
     ]
    }
   ],
   "source": [
    "# Bucle while\n",
    "a = 1\n",
    "while a<=20:\n",
    "    if a%2==0:\n",
    "        print(f'El numero:{a} es par')\n",
    "    else:\n",
    "        print(f'El numero:{a} es impar')\n",
    "\n",
    "    a+=1"
   ]
  },
  {
   "attachments": {},
   "cell_type": "markdown",
   "metadata": {},
   "source": [
    "4) En un ciclo for mostrar para los valores entre 0 y 5 el resultado de elevarlo a la potencia igual a 3"
   ]
  },
  {
   "cell_type": "code",
   "execution_count": 27,
   "metadata": {},
   "outputs": [
    {
     "name": "stdout",
     "output_type": "stream",
     "text": [
      "El resultado de elevar 0 a la tercera potencia es: 0\n",
      "El resultado de elevar 1 a la tercera potencia es: 1\n",
      "El resultado de elevar 2 a la tercera potencia es: 8\n",
      "El resultado de elevar 3 a la tercera potencia es: 27\n",
      "El resultado de elevar 4 a la tercera potencia es: 64\n",
      "El resultado de elevar 5 a la tercera potencia es: 125\n"
     ]
    }
   ],
   "source": [
    "for i in range(0,5+1):\n",
    "    print(f'El resultado de elevar {i} a la tercera potencia es: {i**3}')"
   ]
  },
  {
   "attachments": {},
   "cell_type": "markdown",
   "metadata": {},
   "source": [
    "5) Crear una variable que contenga un número entero y realizar un ciclo for la misma cantidad de ciclos"
   ]
  },
  {
   "cell_type": "code",
   "execution_count": 31,
   "metadata": {},
   "outputs": [
    {
     "name": "stdout",
     "output_type": "stream",
     "text": [
      "1\n",
      "2\n",
      "3\n",
      "4\n",
      "5\n",
      "6\n",
      "7\n"
     ]
    }
   ],
   "source": [
    "var_entero = 7\n",
    "for i in range(var_entero):\n",
    "    print(i+1)"
   ]
  },
  {
   "attachments": {},
   "cell_type": "markdown",
   "metadata": {},
   "source": [
    "6) Utilizar un ciclo while para realizar el factorial de un número guardado en una variable, sólo si la variable contiene un número entero mayor a 0"
   ]
  },
  {
   "cell_type": "code",
   "execution_count": 73,
   "metadata": {},
   "outputs": [
    {
     "name": "stdout",
     "output_type": "stream",
     "text": [
      "120\n"
     ]
    }
   ],
   "source": [
    "a = 5\n",
    "fact = 1  \n",
    "if type(a)==int:\n",
    "    if a >0:\n",
    "        while (a > 0):\n",
    "            fact = fact * a\n",
    "            a = a - 1\n",
    "        print(fact)\n",
    "    else:\n",
    "        print('No es mayor a cero')\n",
    "else:\n",
    "    print('No es un número entero')"
   ]
  },
  {
   "attachments": {},
   "cell_type": "markdown",
   "metadata": {},
   "source": [
    "7) Crear un ciclo for dentro de un ciclo while"
   ]
  },
  {
   "cell_type": "code",
   "execution_count": 80,
   "metadata": {},
   "outputs": [
    {
     "name": "stdout",
     "output_type": "stream",
     "text": [
      "*\n",
      "*\n",
      "*\n",
      "\n",
      "*\n",
      "*\n",
      "*\n",
      "\n",
      "*\n",
      "*\n",
      "*\n",
      "\n",
      "*\n",
      "*\n",
      "*\n",
      "\n"
     ]
    }
   ],
   "source": [
    "a = 4\n",
    "while a > 0:\n",
    "    for i in range(1,4):\n",
    "        print('*') # se imprimen 3 '*' por cada iteracion del while\n",
    "    print()# Separación para mejor observación :)\n",
    "    a = a -1\n",
    "# 4 = 3\n",
    "# 3 = 3\n",
    "# 2 = 3\n",
    "# 1 = 3\n",
    "# resultado = 12"
   ]
  },
  {
   "attachments": {},
   "cell_type": "markdown",
   "metadata": {},
   "source": [
    "8) Crear un ciclo while dentro de un ciclo for"
   ]
  },
  {
   "cell_type": "code",
   "execution_count": 85,
   "metadata": {},
   "outputs": [
    {
     "name": "stdout",
     "output_type": "stream",
     "text": [
      "Iteracion del for N°: 1\n",
      "Interacion del while N°: 1\n",
      "Interacion del while N°: 2\n",
      "Interacion del while N°: 3\n",
      "Iteracion del for N°: 2\n",
      "Interacion del while N°: 4\n",
      "Interacion del while N°: 5\n",
      "Interacion del while N°: 6\n",
      "Iteracion del for N°: 3\n",
      "Interacion del while N°: 7\n",
      "Interacion del while N°: 8\n",
      "Interacion del while N°: 9\n",
      "Se termino\n"
     ]
    }
   ],
   "source": [
    "contador = 0\n",
    "for i in range(1,4):\n",
    "    print(f'Iteracion del for N°: {i}')\n",
    "    a = 0\n",
    "    \n",
    "    while a<3:\n",
    "        a +=1\n",
    "        contador +=1\n",
    "        print(f'Interacion del while N°: {contador}')\n",
    "\n",
    "print('Se termino')\n"
   ]
  },
  {
   "attachments": {},
   "cell_type": "markdown",
   "metadata": {},
   "source": [
    "9) Imprimir los números primos existentes entre 0 y 30"
   ]
  },
  {
   "cell_type": "code",
   "execution_count": 5,
   "metadata": {},
   "outputs": [
    {
     "name": "stdout",
     "output_type": "stream",
     "text": [
      "1 es primo\n",
      "2 es primo\n",
      "3 es primo\n",
      "5 es primo\n",
      "7 es primo\n",
      "11 es primo\n",
      "13 es primo\n",
      "17 es primo\n",
      "19 es primo\n",
      "23 es primo\n",
      "29 es primo\n"
     ]
    }
   ],
   "source": [
    "treinta = 30\n",
    "n=1\n",
    "primo = True\n",
    "while n < treinta:\n",
    "    for i in range(2,n):\n",
    "        if n%i ==0:\n",
    "            primo = False\n",
    "    if primo==True:\n",
    "        print(f'{n} es primo')\n",
    "    else:\n",
    "        primo = True\n",
    "    n+=1\n"
   ]
  },
  {
   "attachments": {},
   "cell_type": "markdown",
   "metadata": {},
   "source": [
    "10) ¿Se puede mejorar el proceso del punto 9? Utilizar las sentencias break y/ó continue para tal fin"
   ]
  },
  {
   "cell_type": "code",
   "execution_count": 10,
   "metadata": {},
   "outputs": [
    {
     "name": "stdout",
     "output_type": "stream",
     "text": [
      "1 es primo\n",
      "2 es primo\n",
      "3 es primo\n",
      "5 es primo\n",
      "7 es primo\n",
      "11 es primo\n",
      "13 es primo\n",
      "17 es primo\n",
      "19 es primo\n",
      "23 es primo\n",
      "29 es primo\n"
     ]
    }
   ],
   "source": [
    "treinta = 30\n",
    "n=1\n",
    "primo = True\n",
    "while n < treinta:\n",
    "    for i in range(2,n):\n",
    "        if n%i ==0:\n",
    "            primo = False\n",
    "            break\n",
    "    if primo==True:\n",
    "        print(f'{n} es primo')\n",
    "    else:\n",
    "        primo = True\n",
    "    n+=1"
   ]
  },
  {
   "attachments": {},
   "cell_type": "markdown",
   "metadata": {},
   "source": [
    "11) En los puntos 9 y 10, se diseño un código que encuentra números primos y además se lo optimizó. ¿Es posible saber en qué medida se optimizó?"
   ]
  },
  {
   "cell_type": "code",
   "execution_count": 14,
   "metadata": {},
   "outputs": [
    {
     "name": "stdout",
     "output_type": "stream",
     "text": [
      "1 es primo\n",
      "2 es primo\n",
      "3 es primo\n",
      "5 es primo\n",
      "7 es primo\n",
      "11 es primo\n",
      "13 es primo\n",
      "17 es primo\n",
      "19 es primo\n",
      "23 es primo\n",
      "29 es primo\n",
      "Ciclos sin break: 378\n",
      "\n",
      "1 es primo\n",
      "2 es primo\n",
      "3 es primo\n",
      "5 es primo\n",
      "7 es primo\n",
      "11 es primo\n",
      "13 es primo\n",
      "17 es primo\n",
      "19 es primo\n",
      "23 es primo\n",
      "29 es primo\n",
      "Ciclos con break: 134, se mejoro el programa un 244 menos ciclos\n"
     ]
    }
   ],
   "source": [
    "treinta = 30\n",
    "n=1\n",
    "primo = True\n",
    "ciclos_totales_sin_break= 0\n",
    "while n < treinta:\n",
    "    for i in range(2,n):\n",
    "        ciclos_totales_sin_break+=1\n",
    "        if n%i ==0:\n",
    "            primo = False\n",
    "    if primo==True:\n",
    "        print(f'{n} es primo')\n",
    "    else:\n",
    "        primo = True\n",
    "    n+=1\n",
    "print(f'Ciclos sin break: {ciclos_totales_sin_break}')\n",
    "print()\n",
    "\n",
    "treinta = 30\n",
    "n=1\n",
    "primo = True\n",
    "ciclos_totales_con_break=0\n",
    "while n < treinta:\n",
    "    for i in range(2,n):\n",
    "        ciclos_totales_con_break+=1\n",
    "        if n%i ==0:\n",
    "            primo = False\n",
    "            break\n",
    "    if primo==True:\n",
    "        print(f'{n} es primo')\n",
    "    else:\n",
    "        primo = True\n",
    "    n+=1\n",
    "print(f'Ciclos con break: {ciclos_totales_con_break}, se mejoro el programa un {ciclos_totales_sin_break-ciclos_totales_con_break} menos ciclos')"
   ]
  },
  {
   "attachments": {},
   "cell_type": "markdown",
   "metadata": {},
   "source": [
    "12) Aplicando continue, armar un ciclo while que solo imprima los valores divisibles por 12, dentro del rango de números de 100 a 300"
   ]
  },
  {
   "cell_type": "code",
   "execution_count": 19,
   "metadata": {},
   "outputs": [
    {
     "name": "stdout",
     "output_type": "stream",
     "text": [
      "Lista de números del 100 al 300 divisibles por doce: [0, 108, 120, 132, 144, 156, 168, 180, 192, 204, 216, 228, 240, 252, 264, 276, 288, 300]\n"
     ]
    }
   ],
   "source": [
    "lista_de_divisibles_por_doce=[0]\n",
    "cien=100\n",
    "trescientos=300\n",
    "\n",
    "while cien<trescientos:\n",
    "    cien+=1\n",
    "    if cien%12!=0:\n",
    "        continue\n",
    "    lista_de_divisibles_por_doce.append(cien)\n",
    "\n",
    "print(f'Lista de números del 100 al 300 divisibles por doce: {lista_de_divisibles_por_doce}')\n"
   ]
  },
  {
   "attachments": {},
   "cell_type": "markdown",
   "metadata": {},
   "source": [
    "13) Utilizar la función **input()** que permite hacer ingresos por teclado, para encontrar números primos y dar la opción al usario de buscar el siguiente"
   ]
  },
  {
   "cell_type": "code",
   "execution_count": 25,
   "metadata": {},
   "outputs": [
    {
     "name": "stdout",
     "output_type": "stream",
     "text": [
      "0 es primo\n",
      "1 es primo\n",
      "2 es primo\n",
      "Finalizo el programa\n"
     ]
    }
   ],
   "source": [
    "numeros_primos= str(input(\"Escriba una 'y' si desea buscar el primer numero primo y 'n' si no quieres: \"))\n",
    "if numeros_primos == 'y':\n",
    "    n=0\n",
    "    primo = True\n",
    "    while n < 100:\n",
    "        for i in range(2,n):\n",
    "            if n%i ==0:\n",
    "                primo = False\n",
    "                break\n",
    "        \n",
    "        if primo==True:\n",
    "            print(f'{n} es primo')\n",
    "            buscar_siguiente= str(input(\"¿Deseas el siguiente número primo?['y' es si], ['n' es no]: \"))\n",
    "            if buscar_siguiente != 'y':\n",
    "                print(\"Finalizo el programa\")\n",
    "                break\n",
    "        else:\n",
    "            primo = True\n",
    "        n+=1\n",
    "else:\n",
    "    print(\"Finalizo el programa\")"
   ]
  },
  {
   "attachments": {},
   "cell_type": "markdown",
   "metadata": {},
   "source": [
    "14) Crear un ciclo while que encuentre dentro del rango de 100 a 300 el primer número divisible por 3 y además múltiplo de 6"
   ]
  },
  {
   "cell_type": "code",
   "execution_count": 31,
   "metadata": {},
   "outputs": [
    {
     "name": "stdout",
     "output_type": "stream",
     "text": [
      "El primer número es : 102\n"
     ]
    }
   ],
   "source": [
    "a = 100\n",
    "b = 300\n",
    "while a<=b:\n",
    "    if a%6==0:\n",
    "        print(f'El primer número es : {a}')\n",
    "        break\n",
    "    a+=1"
   ]
  }
 ],
 "metadata": {
  "interpreter": {
   "hash": "c85384e4cb51c8b72350f3a8712cc8351fdc3955e32a27f9b60c6242ab125f01"
  },
  "kernelspec": {
   "display_name": "Python 3 (ipykernel)",
   "language": "python",
   "name": "python3"
  },
  "language_info": {
   "codemirror_mode": {
    "name": "ipython",
    "version": 3
   },
   "file_extension": ".py",
   "mimetype": "text/x-python",
   "name": "python",
   "nbconvert_exporter": "python",
   "pygments_lexer": "ipython3",
   "version": "3.11.5"
  }
 },
 "nbformat": 4,
 "nbformat_minor": 4
}
