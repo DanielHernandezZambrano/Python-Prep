{
 "cells": [
  {
   "attachments": {},
   "cell_type": "markdown",
   "metadata": {},
   "source": [
    "## Funciones"
   ]
  },
  {
   "attachments": {},
   "cell_type": "markdown",
   "metadata": {},
   "source": [
    "1) Crear una función que reciba un número como parámetro y devuelva True si es primo y False si no lo es"
   ]
  },
  {
   "cell_type": "code",
   "execution_count": 28,
   "metadata": {},
   "outputs": [
    {
     "name": "stdout",
     "output_type": "stream",
     "text": [
      "True\n"
     ]
    }
   ],
   "source": [
    "def es_primo(numero):\n",
    "    for i in range(2,numero):\n",
    "        if (numero%i)==0:\n",
    "            return False\n",
    "    return True\n",
    "        \n",
    "print(es_primo(2))"
   ]
  },
  {
   "attachments": {},
   "cell_type": "markdown",
   "metadata": {},
   "source": [
    "2) Utilizando la función del punto 1, realizar otra función que reciba de parámetro una lista de números y devuelva sólo aquellos que son primos en otra lista"
   ]
  },
  {
   "cell_type": "code",
   "execution_count": 34,
   "metadata": {},
   "outputs": [
    {
     "name": "stdout",
     "output_type": "stream",
     "text": [
      "[1, 2, 3, 5, 7, 11, 13, 17, 19]\n",
      "Help on function crear_lista_de_nros_primos in module __main__:\n",
      "\n",
      "crear_lista_de_nros_primos(listas)\n",
      "    Crea una lista de numeros primos utilizando una lista\n",
      "    ya dada, y usando la funcion \"es_primo\" que devuelve True si un numero es primo\n",
      "\n"
     ]
    }
   ],
   "source": [
    "lista = [1,2,3,4,5,6,7,8,9,10,11,12,13,14,15,16,17,18,19,20]\n",
    "\n",
    "def crear_lista_de_nros_primos(listas):\n",
    "    '''Crea una lista de numeros primos utilizando una lista\n",
    "    ya dada, y usando la funcion \"es_primo\" que devuelve True si un numero es primo'''\n",
    "    nros_primos=[]\n",
    "    for i in listas:\n",
    "        if es_primo(int(i))==True:\n",
    "            nros_primos.append(i)\n",
    "    return nros_primos\n",
    "\n",
    "print(crear_lista_de_nros_primos(lista))\n",
    "help(crear_lista_de_nros_primos)"
   ]
  },
  {
   "attachments": {},
   "cell_type": "markdown",
   "metadata": {},
   "source": [
    "3) Crear una función que al recibir una lista de números, devuelva el que más se repite y cuántas veces lo hace. Si hay más de un \"más repetido\", que devuelva cualquiera"
   ]
  },
  {
   "cell_type": "code",
   "execution_count": 72,
   "metadata": {},
   "outputs": [
    {
     "name": "stdout",
     "output_type": "stream",
     "text": [
      "(3, 5)\n"
     ]
    }
   ],
   "source": [
    "lis = [1,1,2,2,2,3,4,3,3,4,6,3,5,7,8,69,2,5,4,3]\n",
    "\n",
    "def nros_repetidos(lista):\n",
    "    nros = []\n",
    "    repeticiones= []\n",
    "    if len(lista)==0:\n",
    "        return 'Esta lista esta vacía'\n",
    "    for e in lista:\n",
    "        if e in nros:\n",
    "\n",
    "            indice = nros.index(e)\n",
    "            repeticiones[indice]+=1\n",
    "\n",
    "        else:\n",
    "            nros.append(e)\n",
    "            repeticiones.append(1)\n",
    "    \n",
    "    elemento_elegido = nros[0]\n",
    "    reps_del_elem_elegido = repeticiones[0]\n",
    "\n",
    "    for i,e in enumerate(nros):\n",
    "        if repeticiones[i] > reps_del_elem_elegido:\n",
    "            elemento_elegido = nros[i]\n",
    "            reps_del_elem_elegido= repeticiones[i]\n",
    "\n",
    "    return elemento_elegido, reps_del_elem_elegido\n",
    "\n",
    "print(nros_repetidos(lis))"
   ]
  },
  {
   "attachments": {},
   "cell_type": "markdown",
   "metadata": {},
   "source": [
    "4) Crear una función que convierta entre grados Celsius, Farenheit y Kelvin<br>\n",
    "Fórmula 1\t: (°C × 9/5) + 32 = °F<br>\n",
    "Fórmula 2\t: °C + 273.15 = °K<br>\n",
    "Debe recibir 3 parámetros: el valor, la medida de orígen y la medida de destino\n"
   ]
  },
  {
   "cell_type": "code",
   "execution_count": 85,
   "metadata": {},
   "outputs": [
    {
     "name": "stdout",
     "output_type": "stream",
     "text": [
      "15\n"
     ]
    }
   ],
   "source": [
    "def convertidor(valor, origen,destino):\n",
    "    if type(origen) and type(destino) != str:\n",
    "        return 'El origen y destino tienen que ser strings' # Verificamos que origen y destino sean strings\n",
    "    \n",
    "    if type(valor) != int: # Verificamos que valor sea un entero, si no lo es no podemos calcular nada\n",
    "        return 'Para calcular necesitamos nros enteros'\n",
    "    \n",
    "    if origen == 'celsius': # Parte de Celsius a:\n",
    "        if destino == 'celsius':\n",
    "            resultado = valor\n",
    "        elif destino == 'kelvin':\n",
    "            resultado = valor + 273.15\n",
    "        elif destino == 'fahrenheit':\n",
    "            resultado = (valor*9/5)+32\n",
    "        else:\n",
    "            print('Escribe bien te dije') #destino mal escrito\n",
    "    \n",
    "    elif origen == 'fahrenheit': # Parte de farenheit a:\n",
    "        if destino == 'celsius':\n",
    "            resultado = (valor - 32) * 5 / 9\n",
    "        elif destino == 'kelvin':\n",
    "            resultado = ((valor - 32) * 5 / 9) + 273.15 \n",
    "        elif destino == 'fahrenheit':\n",
    "            resultado = valor\n",
    "        else:\n",
    "            print('Escribe bien te dije') # destino mal escrito\n",
    "    \n",
    "    elif origen == 'kelvin': # Parte de kelvin a:\n",
    "        if destino == 'celsius':\n",
    "            resultado = valor -273.15\n",
    "        elif destino == 'kelvin':\n",
    "            resultado = valor\n",
    "        elif destino == 'fahrenheit':\n",
    "            resultado = ((valor - 273.15) * 9 / 5) + 32\n",
    "        else:\n",
    "            print('Escribe bien te dije')# destino mal escrito\n",
    "    \n",
    "    else:\n",
    "        print('Origen mal escrito') # origen parametro mal escrito\n",
    "    \n",
    "    return resultado\n",
    "\n",
    "print(convertidor(15,'fahrenheit','fahrenheit'))\n"
   ]
  },
  {
   "attachments": {},
   "cell_type": "markdown",
   "metadata": {},
   "source": [
    "5) Iterando una lista con los tres valores posibles de temperatura que recibe la función del punto 5, hacer un print para cada combinación de los mismos:"
   ]
  },
  {
   "cell_type": "code",
   "execution_count": 86,
   "metadata": {},
   "outputs": [
    {
     "name": "stdout",
     "output_type": "stream",
     "text": [
      "15° grados celsius a grados celsius es: 15\n",
      "15° grados celsius a grados fahrenheit es: 59.0\n",
      "15° grados celsius a grados kelvin es: 288.15\n",
      "15° grados fahrenheit a grados celsius es: -9.444444444444445\n",
      "15° grados fahrenheit a grados fahrenheit es: 15\n",
      "15° grados fahrenheit a grados kelvin es: 263.7055555555555\n",
      "15° grados kelvin a grados celsius es: -258.15\n",
      "15° grados kelvin a grados fahrenheit es: -432.66999999999996\n",
      "15° grados kelvin a grados kelvin es: 15\n"
     ]
    }
   ],
   "source": [
    "grados = ['celsius','fahrenheit','kelvin']\n",
    "\n",
    "for i in range(0,3):\n",
    "    for j in range(0,3):\n",
    "        print(f'15° grados {grados[i]} a grados {grados[j]} es: {convertidor(15,grados[i], grados[j])}')"
   ]
  },
  {
   "attachments": {},
   "cell_type": "markdown",
   "metadata": {},
   "source": [
    "6) Armar una función que devuelva el factorial de un número. Tener en cuenta que el usuario puede equivocarse y enviar de parámetro un número no entero o negativo"
   ]
  },
  {
   "cell_type": "code",
   "execution_count": 61,
   "metadata": {},
   "outputs": [
    {
     "name": "stdout",
     "output_type": "stream",
     "text": [
      "Tiene que ser un numero entero\n"
     ]
    }
   ],
   "source": [
    "def factorial(numero):\n",
    "    if type(numero) != int:\n",
    "        return 'Tiene que ser un numero entero'\n",
    "    if numero <0:\n",
    "        return 'Tiene que ser mayor que cero'\n",
    "    if numero<=1:\n",
    "        return 1\n",
    "    numero = numero * factorial(numero -1)\n",
    "        \n",
    "    return numero\n",
    "    \n",
    "print(factorial(\"2\"))"
   ]
  },
  {
   "cell_type": "code",
   "execution_count": 69,
   "metadata": {},
   "outputs": [
    {
     "name": "stdout",
     "output_type": "stream",
     "text": [
      "Tiene que ser entero\n",
      "720\n"
     ]
    }
   ],
   "source": [
    "def factorial_2(nro):\n",
    "    if type(nro)==int:\n",
    "        if nro >0:\n",
    "            if nro<=1:\n",
    "                return 1\n",
    "            nro = nro * factorial_2(nro-1)\n",
    "            return nro\n",
    "        else:\n",
    "            return 'Tiene que ser mayor a cero'\n",
    "        \n",
    "    else:\n",
    "        return 'Tiene que ser entero'\n",
    "    \n",
    "print(factorial_2('23'))\n",
    "print(factorial_2(6))"
   ]
  }
 ],
 "metadata": {
  "interpreter": {
   "hash": "c85384e4cb51c8b72350f3a8712cc8351fdc3955e32a27f9b60c6242ab125f01"
  },
  "kernelspec": {
   "display_name": "Python 3 (ipykernel)",
   "language": "python",
   "name": "python3"
  },
  "language_info": {
   "codemirror_mode": {
    "name": "ipython",
    "version": 3
   },
   "file_extension": ".py",
   "mimetype": "text/x-python",
   "name": "python",
   "nbconvert_exporter": "python",
   "pygments_lexer": "ipython3",
   "version": "3.11.5"
  }
 },
 "nbformat": 4,
 "nbformat_minor": 4
}
