{
 "cells": [
  {
   "attachments": {},
   "cell_type": "markdown",
   "metadata": {},
   "source": [
    "## Clases y Programación Orientada a Objetos"
   ]
  },
  {
   "attachments": {},
   "cell_type": "markdown",
   "metadata": {},
   "source": [
    "1) Crear la clase vehículo que contenga los atributos:<br>\n",
    "Color<br>\n",
    "Si es moto, auto, camioneta ó camión<br>\n",
    "Cilindrada del motor"
   ]
  },
  {
   "cell_type": "code",
   "execution_count": 1,
   "metadata": {},
   "outputs": [],
   "source": [
    "class Vehiculo:\n",
    "    def __init__(self,color,tipo,cilindros):\n",
    "        self.color = color\n",
    "        self.tipo = tipo\n",
    "        self.cilindros = cilindros\n"
   ]
  },
  {
   "attachments": {},
   "cell_type": "markdown",
   "metadata": {},
   "source": [
    "2) A la clase Vehiculo creada en el punto 1, agregar los siguientes métodos:<br>\n",
    "Acelerar<br>\n",
    "Frenar<br>\n",
    "Doblar<br>"
   ]
  },
  {
   "cell_type": "code",
   "execution_count": 2,
   "metadata": {},
   "outputs": [],
   "source": [
    "class Vehiculo:\n",
    "    def __init__(self,color,tipo,cilindros):\n",
    "        self.color = color\n",
    "        self.tipo = tipo\n",
    "        self.cilindros = cilindros\n",
    "        self.velocidad= 0\n",
    "        self.direccion= ''\n",
    "\n",
    "\n",
    "    def Acelerar(self):\n",
    "        print('El vehículo está acelerando')\n",
    "        self.velocidad+=10\n",
    "\n",
    "    def Frenar(self):\n",
    "        print('El vehículo está frenado')\n",
    "        self.velocidad-=10\n",
    "\n",
    "    def Doblar(self, dire):\n",
    "        if dire == 'r':\n",
    "            print('El vehículo dobla hacia la derecha')\n",
    "            self.direccion = 'Derecha'\n",
    "\n",
    "        elif dire == 'l':\n",
    "            print('El vehículo dobla hacia la izquierda')\n",
    "            self.direccion = 'Izquierda'\n",
    "        else:\n",
    "            print('Comando de dirección desconocido, escriba (\"r\") para Derecha o (\"l\") para Izquierda')\n"
   ]
  },
  {
   "attachments": {},
   "cell_type": "markdown",
   "metadata": {},
   "source": [
    "3) Instanciar 3 objetos de la clase vehículo y ejecutar sus métodos, probar luego el resultado"
   ]
  },
  {
   "cell_type": "code",
   "execution_count": 7,
   "metadata": {},
   "outputs": [
    {
     "name": "stdout",
     "output_type": "stream",
     "text": [
      "El vehículo está acelerando\n",
      "El vehículo está frenado\n",
      "El vehículo dobla hacia la izquierda\n",
      "El vehículo está acelerando\n",
      "Comando de dirección desconocido, escriba (\"r\") para Derecha o (\"l\") para Izquierda\n",
      "El vehículo está frenado\n",
      "El vehículo está acelerando\n",
      "El vehículo dobla hacia la derecha\n",
      "El vehículo está frenado\n"
     ]
    }
   ],
   "source": [
    "auto_1 = Vehiculo('Negro', 'Auto',4)\n",
    "moto_1 = Vehiculo('Rojo','Moto',2)\n",
    "camion_1 = Vehiculo('Blanco','Camión',8)\n",
    "\n",
    "auto_1.Acelerar()\n",
    "auto_1.Frenar()\n",
    "auto_1.Doblar('l')\n",
    "\n",
    "camion_1.Acelerar()\n",
    "camion_1.Doblar('R')\n",
    "camion_1.Frenar()\n",
    "\n",
    "moto_1.Acelerar()\n",
    "moto_1.Doblar(\"r\")\n",
    "moto_1.Frenar()\n",
    "\n"
   ]
  },
  {
   "attachments": {},
   "cell_type": "markdown",
   "metadata": {},
   "source": [
    "4) Agregar a la clase Vehiculo, un método que muestre su estado, es decir, a que velocidad se encuentra y su dirección. Y otro método que muestre color, tipo y cilindrada"
   ]
  },
  {
   "cell_type": "code",
   "execution_count": 9,
   "metadata": {},
   "outputs": [
    {
     "name": "stdout",
     "output_type": "stream",
     "text": [
      "El vehículo está acelerando\n",
      "El vehículo está acelerando\n",
      "El vehículo está frenado\n",
      "El vehículo dobla hacia la izquierda\n",
      "La velocidad es: 10 y la dirección es: Izquierda\n",
      "Tipo: Auto Deportivo, Color: Azul Metálico, Cilindros: 6 cilindros\n"
     ]
    }
   ],
   "source": [
    "class Vehiculo:\n",
    "    def __init__(self,color,tipo,cilindros): # Constructor y parametros de la clase\n",
    "        self.color = color\n",
    "        self.tipo = tipo\n",
    "        self.cilindros = cilindros\n",
    "        self.velocidad= 0\n",
    "        self.direccion= ''\n",
    "\n",
    "    def Datos(self): # Muestra los datos ingresados del vehículo\n",
    "        print(f'Tipo: {self.tipo}, Color: {self.color}, Cilindros: {self.cilindros} cilindros')\n",
    "\n",
    "    def Estado(self): # Muestra  la direccion y velocidad del vehiculo\n",
    "        print(f'La velocidad es: {self.velocidad} y la dirección es: {self.direccion}')\n",
    "\n",
    "    def Acelerar(self): # Acelera el vehiculo\n",
    "        print('El vehículo está acelerando')\n",
    "        self.velocidad+=10 # Le suma 10 a la velocidad\n",
    "\n",
    "    def Frenar(self): # Frena el vehiculo\n",
    "        print('El vehículo está frenado')\n",
    "        self.velocidad-=10 # LE resta 10 a la velocidad\n",
    "\n",
    "    def Doblar(self, dire): # Dependiendo del parametro ingresado (\"r\" o \"l\") la direccion cambia a 'Derecha' o 'Izquierda'\n",
    "        if dire == 'r':\n",
    "            print('El vehículo dobla hacia la derecha')\n",
    "            self.direccion = 'Derecha'\n",
    "\n",
    "        elif dire == 'l':\n",
    "            print('El vehículo dobla hacia la izquierda')\n",
    "            self.direccion = 'Izquierda'\n",
    "\n",
    "        else: # Si no se ingresa correctamente \"r\" o \"l\". Se imprime el siguiente mensaje\n",
    "            print('Comando de dirección desconocido, escriba (\"r\") para Derecha o (\"l\") para Izquierda')\n",
    "\n",
    "mi_auto = Vehiculo('Azul Metálico', 'Auto Deportivo', 6)\n",
    "\n",
    "mi_auto.Acelerar()\n",
    "mi_auto.Acelerar()\n",
    "mi_auto.Frenar()\n",
    "mi_auto.Doblar('l')\n",
    "\n",
    "mi_auto.Estado()\n",
    "\n",
    "mi_auto.Datos()"
   ]
  },
  {
   "attachments": {},
   "cell_type": "markdown",
   "metadata": {},
   "source": [
    "5) Crear una clase que permita utilizar las funciones creadas en la práctica del módulo 7<br>\n",
    "Verificar Primo<br>\n",
    "Valor modal<br>\n",
    "Conversión grados<br>\n",
    "Factorial<br>"
   ]
  },
  {
   "cell_type": "code",
   "execution_count": 6,
   "metadata": {},
   "outputs": [],
   "source": [
    "class Funciones_M7:\n",
    "    def __init__(self):\n",
    "        pass\n",
    "# Verifica si es un nro primo\n",
    "    def es_primo(self,numero):\n",
    "        for i in range(2,numero):\n",
    "            if (numero%i)==0:\n",
    "                return False\n",
    "        return True\n",
    "\n",
    "# Valor modal\n",
    "    def nros_repetidos(self,lista):\n",
    "        nros = []\n",
    "        repeticiones= []\n",
    "        if len(lista)==0:\n",
    "            return 'Esta lista esta vacía'\n",
    "        for e in lista:\n",
    "            if e in nros:\n",
    "\n",
    "                indice = nros.index(e)\n",
    "                repeticiones[indice]+=1\n",
    "\n",
    "            else:\n",
    "                nros.append(e)\n",
    "                repeticiones.append(1)\n",
    "        \n",
    "        elemento_elegido = nros[0]\n",
    "        reps_del_elem_elegido = repeticiones[0]\n",
    "\n",
    "        for i,e in enumerate(nros):\n",
    "            if repeticiones[i] > reps_del_elem_elegido:\n",
    "                elemento_elegido = nros[i]\n",
    "                reps_del_elem_elegido= repeticiones[i]\n",
    "\n",
    "        return elemento_elegido, reps_del_elem_elegido\n",
    "\n",
    "# Conversión Grados\n",
    "    def convertidor(self,valor, origen,destino):\n",
    "        if type(origen) and type(destino) != str:\n",
    "            return 'El origen y destino tienen que ser strings' # Verificamos que origen y destino sean strings\n",
    "        \n",
    "        if type(valor) != int: # Verificamos que valor sea un entero, si no lo es no podemos calcular nada\n",
    "            return 'Para calcular necesitamos nros enteros'\n",
    "        \n",
    "        if origen == 'celsius': # Parte de Celsius a:\n",
    "            if destino == 'celsius':\n",
    "                resultado = valor\n",
    "            elif destino == 'kelvin':\n",
    "                resultado = valor + 273.15\n",
    "            elif destino == 'fahrenheit':\n",
    "                resultado = (valor*9/5)+32\n",
    "            else:\n",
    "                print('Escribe bien te dije') #destino mal escrito\n",
    "        \n",
    "        elif origen == 'fahrenheit': # Parte de farenheit a:\n",
    "            if destino == 'celsius':\n",
    "                resultado = (valor - 32) * 5 / 9\n",
    "            elif destino == 'kelvin':\n",
    "                resultado = ((valor - 32) * 5 / 9) + 273.15 \n",
    "            elif destino == 'fahrenheit':\n",
    "                resultado = valor\n",
    "            else:\n",
    "                print('Escribe bien te dije') # destino mal escrito\n",
    "        \n",
    "        elif origen == 'kelvin': # Parte de kelvin a:\n",
    "            if destino == 'celsius':\n",
    "                resultado = valor -273.15\n",
    "            elif destino == 'kelvin':\n",
    "                resultado = valor\n",
    "            elif destino == 'fahrenheit':\n",
    "                resultado = ((valor - 273.15) * 9 / 5) + 32\n",
    "            else:\n",
    "                print('Escribe bien te dije')# destino mal escrito\n",
    "        \n",
    "        else:\n",
    "            print('Origen mal escrito') # origen parametro mal escrito\n",
    "        return resultado\n",
    "\n",
    "# Factorial de un nro\n",
    "    def factorial(self,numero):\n",
    "        if type(numero) != int:\n",
    "            return 'Tiene que ser un numero entero'\n",
    "        if numero <0:\n",
    "            return 'Tiene que ser mayor que cero'\n",
    "        if numero<=1:\n",
    "            return 1\n",
    "        numero = numero * self.factorial(numero -1)\n",
    "            \n",
    "        return numero\n"
   ]
  },
  {
   "attachments": {},
   "cell_type": "markdown",
   "metadata": {},
   "source": [
    "6) Probar las funciones incorporadas en la clase del punto 5"
   ]
  },
  {
   "cell_type": "code",
   "execution_count": 11,
   "metadata": {},
   "outputs": [
    {
     "data": {
      "text/plain": [
       "(5, 4)"
      ]
     },
     "execution_count": 11,
     "metadata": {},
     "output_type": "execute_result"
    }
   ],
   "source": [
    "r = Funciones_M7()\n",
    "lista_s = [1,1,1,2,2,2,4,4,5,5,5,5]\n",
    "#r.convertidor(1, 'celsius', 'fahrenheit')\n",
    "#r.es_primo(2)\n",
    "r.nros_repetidos(lista_s)\n",
    "#r.factorial(5)\n"
   ]
  },
  {
   "attachments": {},
   "cell_type": "markdown",
   "metadata": {},
   "source": [
    "7) Es necesario que la clase creada en el punto 5 contenga una lista, sobre la cual se apliquen las funciones incorporadas"
   ]
  },
  {
   "cell_type": "code",
   "execution_count": 20,
   "metadata": {},
   "outputs": [],
   "source": [
    "class Funciones_M7_V2:\n",
    "    def __init__(self,lista):\n",
    "        self.lista = lista\n",
    "\n",
    "    def verifica_primo(self):\n",
    "        for i in self.lista:\n",
    "            if (self.__es_primo(i)):\n",
    "                print('El elemento', i, 'SI es un numero primo')\n",
    "            else:\n",
    "                print('El elemento', i, 'NO es un numero primo')\n",
    "\n",
    "    def conversion_grados(self, origen, destino):\n",
    "        for i in self.lista:\n",
    "            print(i, 'grados', origen, 'son', self.__convertidor(i, origen, destino),'grados',destino)\n",
    "    \n",
    "    def factorial(self):\n",
    "        for i in self.lista:\n",
    "            print('El factorial de ', i, 'es', self.__factorial(i))\n",
    "\n",
    "\n",
    "\n",
    "# Verifica si es un nro primo\n",
    "    def __es_primo(self,numero):\n",
    "        for i in range(2,numero):\n",
    "            if (numero%i)==0:\n",
    "                return False\n",
    "        return True\n",
    "\n",
    "# Valor modal\n",
    "    def nros_repetidos(self):\n",
    "        nros = []\n",
    "        repeticiones= []\n",
    "        if len(self.lista)==0:\n",
    "            return 'Esta lista esta vacía'\n",
    "        for e in self.lista:\n",
    "            if e in nros:\n",
    "\n",
    "                indice = nros.index(e)\n",
    "                repeticiones[indice]+=1\n",
    "\n",
    "            else:\n",
    "                nros.append(e)\n",
    "                repeticiones.append(1)\n",
    "        \n",
    "        elemento_elegido = nros[0]\n",
    "        reps_del_elem_elegido = repeticiones[0]\n",
    "\n",
    "        for i,e in enumerate(nros):\n",
    "            if repeticiones[i] > reps_del_elem_elegido:\n",
    "                elemento_elegido = nros[i]\n",
    "                reps_del_elem_elegido= repeticiones[i]\n",
    "\n",
    "        return elemento_elegido, reps_del_elem_elegido\n",
    "\n",
    "# Conversión Grados\n",
    "    def __convertidor(self,valor, origen,destino):\n",
    "        if type(origen) and type(destino) != str:\n",
    "            return 'El origen y destino tienen que ser strings' # Verificamos que origen y destino sean strings\n",
    "        \n",
    "        if type(valor) != int: # Verificamos que valor sea un entero, si no lo es no podemos calcular nada\n",
    "            return 'Para calcular necesitamos nros enteros'\n",
    "        \n",
    "        if origen == 'celsius': # Parte de Celsius a:\n",
    "            if destino == 'celsius':\n",
    "                resultado = valor\n",
    "            elif destino == 'kelvin':\n",
    "                resultado = valor + 273.15\n",
    "            elif destino == 'fahrenheit':\n",
    "                resultado = (valor*9/5)+32\n",
    "            else:\n",
    "                print('Escribe bien te dije') #destino mal escrito\n",
    "        \n",
    "        elif origen == 'fahrenheit': # Parte de farenheit a:\n",
    "            if destino == 'celsius':\n",
    "                resultado = (valor - 32) * 5 / 9\n",
    "            elif destino == 'kelvin':\n",
    "                resultado = ((valor - 32) * 5 / 9) + 273.15 \n",
    "            elif destino == 'fahrenheit':\n",
    "                resultado = valor\n",
    "            else:\n",
    "                print('Escribe bien te dije') # destino mal escrito\n",
    "        \n",
    "        elif origen == 'kelvin': # Parte de kelvin a:\n",
    "            if destino == 'celsius':\n",
    "                resultado = valor -273.15\n",
    "            elif destino == 'kelvin':\n",
    "                resultado = valor\n",
    "            elif destino == 'fahrenheit':\n",
    "                resultado = ((valor - 273.15) * 9 / 5) + 32\n",
    "            else:\n",
    "                print('Escribe bien te dije')# destino mal escrito\n",
    "        \n",
    "        else:\n",
    "            print('Origen mal escrito') # origen parametro mal escrito\n",
    "        return resultado\n",
    "\n",
    "# Factorial de un nro\n",
    "    def __factorial(self,numero):\n",
    "        if type(numero) != int:\n",
    "            return 'Tiene que ser un numero entero'\n",
    "        if numero <0:\n",
    "            return 'Tiene que ser mayor que cero'\n",
    "        if numero<=1:\n",
    "            return 1\n",
    "        numero = numero * self.__factorial(numero -1)\n",
    "            \n",
    "        return numero\n"
   ]
  },
  {
   "cell_type": "code",
   "execution_count": 25,
   "metadata": {},
   "outputs": [
    {
     "name": "stdout",
     "output_type": "stream",
     "text": [
      "1 grados celsius son 33.8 grados fahrenheit\n",
      "1 grados celsius son 33.8 grados fahrenheit\n",
      "2 grados celsius son 35.6 grados fahrenheit\n",
      "2 grados celsius son 35.6 grados fahrenheit\n",
      "33 grados celsius son 91.4 grados fahrenheit\n",
      "5 grados celsius son 41.0 grados fahrenheit\n",
      "5 grados celsius son 41.0 grados fahrenheit\n",
      "5 grados celsius son 41.0 grados fahrenheit\n",
      "5 grados celsius son 41.0 grados fahrenheit\n",
      "6 grados celsius son 42.8 grados fahrenheit\n",
      "7 grados celsius son 44.6 grados fahrenheit\n",
      "8 grados celsius son 46.4 grados fahrenheit\n",
      "8 grados celsius son 46.4 grados fahrenheit\n",
      "8 grados celsius son 46.4 grados fahrenheit\n",
      "8 grados celsius son 46.4 grados fahrenheit\n",
      "8 grados celsius son 46.4 grados fahrenheit\n",
      "8 grados celsius son 46.4 grados fahrenheit\n",
      "8 grados celsius son 46.4 grados fahrenheit\n"
     ]
    }
   ],
   "source": [
    "b = Funciones_M7_V2([1,1,2,2,33,5,5,5,5,6,7,8,8,8,8,8,8,8])\n",
    "b.conversion_grados('celsius','fahrenheit')"
   ]
  },
  {
   "cell_type": "code",
   "execution_count": 26,
   "metadata": {},
   "outputs": [
    {
     "name": "stdout",
     "output_type": "stream",
     "text": [
      "El elemento 1 SI es un numero primo\n",
      "El elemento 1 SI es un numero primo\n",
      "El elemento 2 SI es un numero primo\n",
      "El elemento 2 SI es un numero primo\n",
      "El elemento 33 NO es un numero primo\n",
      "El elemento 5 SI es un numero primo\n",
      "El elemento 5 SI es un numero primo\n",
      "El elemento 5 SI es un numero primo\n",
      "El elemento 5 SI es un numero primo\n",
      "El elemento 6 NO es un numero primo\n",
      "El elemento 7 SI es un numero primo\n",
      "El elemento 8 NO es un numero primo\n",
      "El elemento 8 NO es un numero primo\n",
      "El elemento 8 NO es un numero primo\n",
      "El elemento 8 NO es un numero primo\n",
      "El elemento 8 NO es un numero primo\n",
      "El elemento 8 NO es un numero primo\n",
      "El elemento 8 NO es un numero primo\n"
     ]
    }
   ],
   "source": [
    "b.verifica_primo()"
   ]
  },
  {
   "cell_type": "code",
   "execution_count": 27,
   "metadata": {},
   "outputs": [
    {
     "name": "stdout",
     "output_type": "stream",
     "text": [
      "El factorial de  1 es 1\n",
      "El factorial de  1 es 1\n",
      "El factorial de  2 es 2\n",
      "El factorial de  2 es 2\n",
      "El factorial de  33 es 8683317618811886495518194401280000000\n",
      "El factorial de  5 es 120\n",
      "El factorial de  5 es 120\n",
      "El factorial de  5 es 120\n",
      "El factorial de  5 es 120\n",
      "El factorial de  6 es 720\n",
      "El factorial de  7 es 5040\n",
      "El factorial de  8 es 40320\n",
      "El factorial de  8 es 40320\n",
      "El factorial de  8 es 40320\n",
      "El factorial de  8 es 40320\n",
      "El factorial de  8 es 40320\n",
      "El factorial de  8 es 40320\n",
      "El factorial de  8 es 40320\n"
     ]
    }
   ],
   "source": [
    "b.factorial()"
   ]
  },
  {
   "cell_type": "code",
   "execution_count": 28,
   "metadata": {},
   "outputs": [
    {
     "data": {
      "text/plain": [
       "(8, 7)"
      ]
     },
     "execution_count": 28,
     "metadata": {},
     "output_type": "execute_result"
    }
   ],
   "source": [
    "b.nros_repetidos()"
   ]
  },
  {
   "attachments": {},
   "cell_type": "markdown",
   "metadata": {},
   "source": [
    "8) Crear un archivo .py aparte y ubicar allí la clase generada en el punto anterior. Luego realizar la importación del módulo y probar alguna de sus funciones"
   ]
  },
  {
   "cell_type": "code",
   "execution_count": 34,
   "metadata": {},
   "outputs": [
    {
     "name": "stdout",
     "output_type": "stream",
     "text": [
      "1000 grados kelvin son 726.85 grados celsius\n",
      "220 grados kelvin son -53.14999999999998 grados celsius\n",
      "330 grados kelvin son 56.85000000000002 grados celsius\n",
      "40 grados kelvin son -233.14999999999998 grados celsius\n",
      "400 grados kelvin son 126.85000000000002 grados celsius\n",
      "40 grados kelvin son -233.14999999999998 grados celsius\n",
      "40 grados kelvin son -233.14999999999998 grados celsius\n"
     ]
    }
   ],
   "source": [
    "from herramientas import * # Ya estaba creada asi que use esa misma\n",
    "\n",
    "b2 = Herramientas([1000,220,330,40,400,40,40])\n",
    "b2.conversion_grados('kelvin', 'celsius')"
   ]
  }
 ],
 "metadata": {
  "interpreter": {
   "hash": "c85384e4cb51c8b72350f3a8712cc8351fdc3955e32a27f9b60c6242ab125f01"
  },
  "kernelspec": {
   "display_name": "Python 3 (ipykernel)",
   "language": "python",
   "name": "python3"
  },
  "language_info": {
   "codemirror_mode": {
    "name": "ipython",
    "version": 3
   },
   "file_extension": ".py",
   "mimetype": "text/x-python",
   "name": "python",
   "nbconvert_exporter": "python",
   "pygments_lexer": "ipython3",
   "version": "3.11.5"
  }
 },
 "nbformat": 4,
 "nbformat_minor": 4
}
