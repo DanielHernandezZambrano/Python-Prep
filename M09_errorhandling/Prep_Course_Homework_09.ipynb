{
 "cells": [
  {
   "attachments": {},
   "cell_type": "markdown",
   "metadata": {},
   "source": [
    "## Manejo de errores"
   ]
  },
  {
   "attachments": {},
   "cell_type": "markdown",
   "metadata": {},
   "source": [
    "1) Con la clase creada en el módulo 7, tener en cuenta diferentes casos en que el código pudiera arrojar error. Por ejemplo, en la creación del objeto recibimos una lista de números enteros pero ¿qué pasa si se envía otro tipo de dato?"
   ]
  },
  {
   "cell_type": "code",
   "execution_count": 5,
   "metadata": {},
   "outputs": [
    {
     "ename": "ValueError",
     "evalue": "Se ha creado una lista vacía. Se esperaba una lista de núemeros enteros",
     "output_type": "error",
     "traceback": [
      "\u001b[1;31m---------------------------------------------------------------------------\u001b[0m",
      "\u001b[1;31mValueError\u001b[0m                                Traceback (most recent call last)",
      "\u001b[1;32mc:\\Users\\estudiante\\Desktop\\Python-Prep\\M09_errorhandling\\Prep_Course_Homework_09.ipynb Celda 3\u001b[0m line \u001b[0;36m3\n\u001b[0;32m      <a href='vscode-notebook-cell:/c%3A/Users/estudiante/Desktop/Python-Prep/M09_errorhandling/Prep_Course_Homework_09.ipynb#W2sZmlsZQ%3D%3D?line=0'>1</a>\u001b[0m \u001b[39mimport\u001b[39;00m \u001b[39mherramientas\u001b[39;00m \u001b[39mas\u001b[39;00m \u001b[39mh\u001b[39;00m\n\u001b[1;32m----> <a href='vscode-notebook-cell:/c%3A/Users/estudiante/Desktop/Python-Prep/M09_errorhandling/Prep_Course_Homework_09.ipynb#W2sZmlsZQ%3D%3D?line=2'>3</a>\u001b[0m dato_diferente\u001b[39m=\u001b[39m h\u001b[39m.\u001b[39;49mHerramientas(\u001b[39m2.1\u001b[39;49m) \u001b[39m#Lanza un error con un tipo de dato diferente\u001b[39;00m\n",
      "File \u001b[1;32mc:\\Users\\estudiante\\Desktop\\Python-Prep\\M09_errorhandling\\herramientas.py:5\u001b[0m, in \u001b[0;36mHerramientas.__init__\u001b[1;34m(self, lista_numeros)\u001b[0m\n\u001b[0;32m      3\u001b[0m \u001b[39mif\u001b[39;00m (\u001b[39mtype\u001b[39m(lista_numeros) \u001b[39m!=\u001b[39m \u001b[39mlist\u001b[39m):\n\u001b[0;32m      4\u001b[0m     \u001b[39mself\u001b[39m\u001b[39m.\u001b[39mlista \u001b[39m=\u001b[39m []\n\u001b[1;32m----> 5\u001b[0m     \u001b[39mraise\u001b[39;00m \u001b[39mValueError\u001b[39;00m(\u001b[39m'\u001b[39m\u001b[39mSe ha creado una lista vacía. Se esperaba una lista de núemeros enteros\u001b[39m\u001b[39m'\u001b[39m)  \n\u001b[0;32m      6\u001b[0m \u001b[39melse\u001b[39;00m:\n\u001b[0;32m      7\u001b[0m     \u001b[39mself\u001b[39m\u001b[39m.\u001b[39mlista \u001b[39m=\u001b[39m lista_numeros\n",
      "\u001b[1;31mValueError\u001b[0m: Se ha creado una lista vacía. Se esperaba una lista de núemeros enteros"
     ]
    }
   ],
   "source": [
    "import herramientas as h\n",
    "\n",
    "dato_diferente= h.Herramientas(2.1) #Lanza un error con un tipo de dato diferente"
   ]
  },
  {
   "attachments": {},
   "cell_type": "markdown",
   "metadata": {},
   "source": [
    "2) En la función que hace la conversión de grados, validar que los parámetros enviados sean los esperados, de no serlo, informar cuáles son los valores esperados."
   ]
  },
  {
   "cell_type": "code",
   "execution_count": 3,
   "metadata": {},
   "outputs": [
    {
     "name": "stdout",
     "output_type": "stream",
     "text": [
      "Los parametros esperados son: ['celsius', 'kelvin', 'farenheit']\n"
     ]
    },
    {
     "data": {
      "text/plain": [
       "[]"
      ]
     },
     "execution_count": 3,
     "metadata": {},
     "output_type": "execute_result"
    }
   ],
   "source": [
    "grados = h.Herramientas([2,3,4])\n",
    "grados.conversion_grados('d','f')"
   ]
  },
  {
   "cell_type": "code",
   "execution_count": 4,
   "metadata": {},
   "outputs": [
    {
     "data": {
      "text/plain": [
       "[35.6, 37.4, 39.2]"
      ]
     },
     "execution_count": 4,
     "metadata": {},
     "output_type": "execute_result"
    }
   ],
   "source": [
    "grados.conversion_grados('celsius','farenheit')"
   ]
  },
  {
   "cell_type": "code",
   "execution_count": 6,
   "metadata": {},
   "outputs": [
    {
     "data": {
      "text/plain": [
       "<module 'herramientas' from 'c:\\\\Users\\\\estudiante\\\\Desktop\\\\Python-Prep\\\\M09_errorhandling\\\\herramientas.py'>"
      ]
     },
     "execution_count": 6,
     "metadata": {},
     "output_type": "execute_result"
    }
   ],
   "source": [
    "import importlib\n",
    "importlib.reload(h)"
   ]
  },
  {
   "attachments": {},
   "cell_type": "markdown",
   "metadata": {},
   "source": [
    "3) Importar el modulo \"unittest\" y crear los siguientes casos de pruebas sobre la clase utilizada en el punto 2<br>\n",
    "Creacion del objeto incorrecta<br>\n",
    "Creacion correcta del objeto<br>\n",
    "Metodo valor_modal()<br>\n",
    "\n",
    "Se puede usar \"raise ValueError()\" en la creación de la clase para verificar el error. Investigar sobre esta funcionalidad."
   ]
  },
  {
   "cell_type": "code",
   "execution_count": 12,
   "metadata": {},
   "outputs": [
    {
     "name": "stderr",
     "output_type": "stream",
     "text": [
      "test_creacion_correcta_obj (__main__.Pruebas.test_creacion_correcta_obj) ... ok\n",
      "test_creacion_obj_incorrecta (__main__.Pruebas.test_creacion_obj_incorrecta) ... ok\n",
      "test_metodo_valor_modal (__main__.Pruebas.test_metodo_valor_modal) ... ok\n",
      "\n",
      "----------------------------------------------------------------------\n",
      "Ran 3 tests in 0.012s\n",
      "\n",
      "OK\n"
     ]
    },
    {
     "data": {
      "text/plain": [
       "<unittest.main.TestProgram at 0x23063631cd0>"
      ]
     },
     "execution_count": 12,
     "metadata": {},
     "output_type": "execute_result"
    }
   ],
   "source": [
    "import unittest\n",
    "\n",
    "class Pruebas(unittest.TestCase):\n",
    "\n",
    "    def test_creacion_obj_incorrecta(self):\n",
    "        dato = 1.333\n",
    "        self.assertRaises(ValueError, h.Herramientas, dato)\n",
    "\n",
    "    def test_creacion_correcta_obj(self):\n",
    "        dato = [1,2,3,5,5,7,8,9,9]\n",
    "        lis = h.Herramientas(dato)\n",
    "        self.assertEqual(lis.lista, dato)\n",
    "\n",
    "    def test_metodo_valor_modal(self):\n",
    "        dato = [1, 2, 1, 3]\n",
    "        lis = h.Herramientas(dato)\n",
    "        moda, veces = lis.valor_modal(False)\n",
    "        moda = [moda]\n",
    "        moda.append(veces)\n",
    "        resultado = [1, 2]\n",
    "        self.assertEqual(moda, resultado)\n",
    "\n",
    "unittest.main(argv=[''], verbosity=2, exit=False)"
   ]
  },
  {
   "attachments": {},
   "cell_type": "markdown",
   "metadata": {},
   "source": [
    "4) Probar una creación incorrecta y visualizar la salida del \"raise\""
   ]
  },
  {
   "cell_type": "code",
   "execution_count": 13,
   "metadata": {},
   "outputs": [
    {
     "ename": "ValueError",
     "evalue": "Se ha creado una lista vacía. Se esperaba una lista de núemeros enteros",
     "output_type": "error",
     "traceback": [
      "\u001b[1;31m---------------------------------------------------------------------------\u001b[0m",
      "\u001b[1;31mValueError\u001b[0m                                Traceback (most recent call last)",
      "\u001b[1;32mc:\\Users\\estudiante\\Desktop\\Python-Prep\\M09_errorhandling\\Prep_Course_Homework_09.ipynb Celda 11\u001b[0m line \u001b[0;36m1\n\u001b[1;32m----> <a href='vscode-notebook-cell:/c%3A/Users/estudiante/Desktop/Python-Prep/M09_errorhandling/Prep_Course_Homework_09.ipynb#X13sZmlsZQ%3D%3D?line=0'>1</a>\u001b[0m a1 \u001b[39m=\u001b[39m h\u001b[39m.\u001b[39;49mHerramientas(\u001b[39m2\u001b[39;49m)\n",
      "File \u001b[1;32mc:\\Users\\estudiante\\Desktop\\Python-Prep\\M09_errorhandling\\herramientas.py:5\u001b[0m, in \u001b[0;36mHerramientas.__init__\u001b[1;34m(self, lista_numeros)\u001b[0m\n\u001b[0;32m      3\u001b[0m \u001b[39mif\u001b[39;00m (\u001b[39mtype\u001b[39m(lista_numeros) \u001b[39m!=\u001b[39m \u001b[39mlist\u001b[39m):\n\u001b[0;32m      4\u001b[0m     \u001b[39mself\u001b[39m\u001b[39m.\u001b[39mlista \u001b[39m=\u001b[39m []\n\u001b[1;32m----> 5\u001b[0m     \u001b[39mraise\u001b[39;00m \u001b[39mValueError\u001b[39;00m(\u001b[39m'\u001b[39m\u001b[39mSe ha creado una lista vacía. Se esperaba una lista de núemeros enteros\u001b[39m\u001b[39m'\u001b[39m)  \n\u001b[0;32m      6\u001b[0m \u001b[39melse\u001b[39;00m:\n\u001b[0;32m      7\u001b[0m     \u001b[39mself\u001b[39m\u001b[39m.\u001b[39mlista \u001b[39m=\u001b[39m lista_numeros\n",
      "\u001b[1;31mValueError\u001b[0m: Se ha creado una lista vacía. Se esperaba una lista de núemeros enteros"
     ]
    }
   ],
   "source": [
    "a1 = h.Herramientas(2)"
   ]
  },
  {
   "attachments": {},
   "cell_type": "markdown",
   "metadata": {},
   "source": [
    "6) Agregar casos de pruebas para el método verifica_primos() realizando el cambio en la clase, para que devuelva una lista de True o False en función de que el elemento en la posisicón sea o no primo"
   ]
  },
  {
   "cell_type": "code",
   "execution_count": 15,
   "metadata": {},
   "outputs": [
    {
     "name": "stderr",
     "output_type": "stream",
     "text": [
      "test_prueba_primos (__main__.Preubas_2.test_prueba_primos) ... ok\n",
      "test_creacion_correcta_obj (__main__.Pruebas.test_creacion_correcta_obj) ... ok\n",
      "test_creacion_obj_incorrecta (__main__.Pruebas.test_creacion_obj_incorrecta) ... ok\n",
      "test_metodo_valor_modal (__main__.Pruebas.test_metodo_valor_modal) ... ok\n",
      "test_prueba_primos (__main__.Pruebas_2.test_prueba_primos) ... ok\n",
      "\n",
      "----------------------------------------------------------------------\n",
      "Ran 5 tests in 0.016s\n",
      "\n",
      "OK\n"
     ]
    },
    {
     "data": {
      "text/plain": [
       "<unittest.main.TestProgram at 0x23063657dd0>"
      ]
     },
     "execution_count": 15,
     "metadata": {},
     "output_type": "execute_result"
    }
   ],
   "source": [
    "class Pruebas_2(unittest.TestCase):\n",
    "\n",
    "    def test_prueba_primos(self):\n",
    "        lista = [1,2,3,4,5,6,7]\n",
    "        a1 = h.Herramientas(lista)\n",
    "        lista_primos = a1.verifica_primo()\n",
    "        verifica_primos = [True,True,True,False,True,False,True]\n",
    "        self.assertEqual(lista_primos, verifica_primos)\n",
    "\n",
    "unittest.main(argv=[''], verbosity=2, exit=False)"
   ]
  },
  {
   "attachments": {},
   "cell_type": "markdown",
   "metadata": {},
   "source": [
    "7) Agregar casos de pruebas para el método conversion_grados()"
   ]
  },
  {
   "cell_type": "code",
   "execution_count": 18,
   "metadata": {},
   "outputs": [
    {
     "name": "stderr",
     "output_type": "stream",
     "text": [
      "test_prueba_primos (__main__.Preubas_2.test_prueba_primos) ... ok\n",
      "test_conversion_grados (__main__.Preubas_3.test_conversion_grados) ... ok\n",
      "test_creacion_correcta_obj (__main__.Pruebas.test_creacion_correcta_obj) ... ok\n",
      "test_creacion_obj_incorrecta (__main__.Pruebas.test_creacion_obj_incorrecta) ... ok\n",
      "test_metodo_valor_modal (__main__.Pruebas.test_metodo_valor_modal) ... ok\n",
      "test_prueba_primos (__main__.Pruebas_2.test_prueba_primos) ... ok\n",
      "test_conversion_grados (__main__.Pruebas_3.test_conversion_grados) ... ok\n",
      "\n",
      "----------------------------------------------------------------------\n",
      "Ran 7 tests in 0.017s\n",
      "\n",
      "OK\n"
     ]
    },
    {
     "data": {
      "text/plain": [
       "<unittest.main.TestProgram at 0x230635c3050>"
      ]
     },
     "execution_count": 18,
     "metadata": {},
     "output_type": "execute_result"
    }
   ],
   "source": [
    "class Pruebas_3(unittest.TestCase):\n",
    "\n",
    "    def test_conversion_grados(self):\n",
    "        lista2 = [1,13,50]\n",
    "        a2 = h.Herramientas(lista2)\n",
    "        convertidos = a2.conversion_grados('celsius','kelvin')\n",
    "        convertidos_verif = [274.15,286.15,323.15]\n",
    "        self.assertEqual(convertidos,convertidos_verif)\n",
    "\n",
    "\n",
    "unittest.main(argv=[''], verbosity=2, exit=False)"
   ]
  },
  {
   "attachments": {},
   "cell_type": "markdown",
   "metadata": {},
   "source": [
    "8) Agregar casos de pruebas para el método factorial()"
   ]
  },
  {
   "cell_type": "code",
   "execution_count": 21,
   "metadata": {},
   "outputs": [
    {
     "name": "stderr",
     "output_type": "stream",
     "text": [
      "test_prueba_primos (__main__.Preubas_2.test_prueba_primos) ... ok\n",
      "test_conversion_grados (__main__.Preubas_3.test_conversion_grados) ... ok\n",
      "test_creacion_correcta_obj (__main__.Pruebas.test_creacion_correcta_obj) ... ok\n",
      "test_creacion_obj_incorrecta (__main__.Pruebas.test_creacion_obj_incorrecta) ... ok\n",
      "test_metodo_valor_modal (__main__.Pruebas.test_metodo_valor_modal) ... ok\n",
      "test_prueba_primos (__main__.Pruebas_2.test_prueba_primos) ... ok\n",
      "test_conversion_grados (__main__.Pruebas_3.test_conversion_grados) ... ok\n",
      "test_factorial (__main__.Pruebas_4.test_factorial) ... ok\n",
      "\n",
      "----------------------------------------------------------------------\n",
      "Ran 8 tests in 0.022s\n",
      "\n",
      "OK\n"
     ]
    },
    {
     "data": {
      "text/plain": [
       "<unittest.main.TestProgram at 0x2306356dd50>"
      ]
     },
     "execution_count": 21,
     "metadata": {},
     "output_type": "execute_result"
    }
   ],
   "source": [
    "class Pruebas_4(unittest.TestCase):\n",
    "\n",
    "    def test_factorial(self):\n",
    "        lista3 = [3,4,5]\n",
    "        a3 = h.Herramientas(lista3)\n",
    "        fact = a3.factorial()\n",
    "        fact_verificado = [6,24,120]\n",
    "        self.assertEqual(fact, fact_verificado)\n",
    "\n",
    "unittest.main(argv=[''], verbosity=2, exit=False)"
   ]
  }
 ],
 "metadata": {
  "interpreter": {
   "hash": "c85384e4cb51c8b72350f3a8712cc8351fdc3955e32a27f9b60c6242ab125f01"
  },
  "kernelspec": {
   "display_name": "Python 3 (ipykernel)",
   "language": "python",
   "name": "python3"
  },
  "language_info": {
   "codemirror_mode": {
    "name": "ipython",
    "version": 3
   },
   "file_extension": ".py",
   "mimetype": "text/x-python",
   "name": "python",
   "nbconvert_exporter": "python",
   "pygments_lexer": "ipython3",
   "version": "3.11.5"
  }
 },
 "nbformat": 4,
 "nbformat_minor": 4
}
